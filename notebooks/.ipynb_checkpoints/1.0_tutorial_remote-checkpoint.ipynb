{
 "cells": [
  {
   "cell_type": "code",
   "execution_count": 1,
   "metadata": {},
   "outputs": [],
   "source": [
    "%load_ext autoreload\n",
    "%autoreload 2"
   ]
  },
  {
   "cell_type": "code",
   "execution_count": 2,
   "metadata": {},
   "outputs": [
    {
     "data": {
      "text/plain": [
       "True"
      ]
     },
     "execution_count": 2,
     "metadata": {},
     "output_type": "execute_result"
    }
   ],
   "source": [
    "from openrouteservice import Client\n",
    "from dotenv import load_dotenv\n",
    "import os\n",
    "\n",
    "# load the env variable\n",
    "load_dotenv()"
   ]
  },
  {
   "cell_type": "code",
   "execution_count": 3,
   "metadata": {},
   "outputs": [],
   "source": [
    "client = Client(key=os.environ['KEY'])"
   ]
  },
  {
   "cell_type": "code",
   "execution_count": 64,
   "metadata": {},
   "outputs": [],
   "source": [
    "address = \"viale suzzani 280, Milano\""
   ]
  },
  {
   "cell_type": "code",
   "execution_count": 65,
   "metadata": {},
   "outputs": [],
   "source": [
    "address_resp = client.pelias_search(\n",
    "    text=address\n",
    ")"
   ]
  },
  {
   "cell_type": "code",
   "execution_count": 66,
   "metadata": {},
   "outputs": [
    {
     "data": {
      "text/plain": [
       "{'version': '0.2',\n",
       " 'attribution': 'https://openrouteservice.org/terms-of-service/#attribution-geocode',\n",
       " 'query': {'text': 'viale suzzani 280, Milano',\n",
       "  'size': 10,\n",
       "  'private': False,\n",
       "  'lang': {'name': 'English',\n",
       "   'iso6391': 'en',\n",
       "   'iso6393': 'eng',\n",
       "   'via': 'default',\n",
       "   'defaulted': True},\n",
       "  'querySize': 20,\n",
       "  'parser': 'libpostal',\n",
       "  'parsed_text': {'street': 'viale suzzani',\n",
       "   'housenumber': '280',\n",
       "   'city': 'milano'}},\n",
       " 'engine': {'name': 'Pelias', 'author': 'Mapzen', 'version': '1.0'},\n",
       " 'timestamp': 1686583633387}"
      ]
     },
     "execution_count": 66,
     "metadata": {},
     "output_type": "execute_result"
    }
   ],
   "source": [
    "address_resp['geocoding']"
   ]
  },
  {
   "cell_type": "code",
   "execution_count": 69,
   "metadata": {
    "scrolled": false
   },
   "outputs": [
    {
     "data": {
      "text/plain": [
       "{'type': 'Feature',\n",
       " 'geometry': {'type': 'Point', 'coordinates': [9.209151, 45.526561]},\n",
       " 'properties': {'id': 'it/countrywide-addresses-country:75e933c3fa90d51f',\n",
       "  'gid': 'openaddresses:address:it/countrywide-addresses-country:75e933c3fa90d51f',\n",
       "  'layer': 'address',\n",
       "  'source': 'openaddresses',\n",
       "  'source_id': 'it/countrywide-addresses-country:75e933c3fa90d51f',\n",
       "  'name': 'Viale Giovanni Suzzani 280',\n",
       "  'housenumber': '280',\n",
       "  'street': 'Viale Giovanni Suzzani',\n",
       "  'postalcode': '20162',\n",
       "  'confidence': 1,\n",
       "  'match_type': 'exact',\n",
       "  'accuracy': 'point',\n",
       "  'country': 'Italy',\n",
       "  'country_gid': 'whosonfirst:country:85633253',\n",
       "  'country_a': 'ITA',\n",
       "  'macroregion': 'Lombardy',\n",
       "  'macroregion_gid': 'whosonfirst:macroregion:404227497',\n",
       "  'region': 'Milano',\n",
       "  'region_gid': 'whosonfirst:region:85685243',\n",
       "  'region_a': 'MI',\n",
       "  'localadmin': 'Milan',\n",
       "  'localadmin_gid': 'whosonfirst:localadmin:404468459',\n",
       "  'locality': 'Milan',\n",
       "  'locality_gid': 'whosonfirst:locality:101752703',\n",
       "  'neighbourhood': 'Aeroporto',\n",
       "  'neighbourhood_gid': 'whosonfirst:neighbourhood:85862739',\n",
       "  'continent': 'Europe',\n",
       "  'continent_gid': 'whosonfirst:continent:102191581',\n",
       "  'label': 'Viale Giovanni Suzzani 280, Milan, MI, Italy'}}"
      ]
     },
     "execution_count": 69,
     "metadata": {},
     "output_type": "execute_result"
    }
   ],
   "source": [
    "for addr in address_resp['features']:\n",
    "    match_type = addr['properties']['match_type']\n",
    "    if match_type == 'fallback':\n",
    "        print('fallback')\n",
    "    else:\n",
    "        break\n",
    "\n",
    "addr"
   ]
  },
  {
   "cell_type": "code",
   "execution_count": 68,
   "metadata": {},
   "outputs": [
    {
     "data": {
      "text/plain": [
       "[9.209151, 45.526561, 9.209151, 45.526561]"
      ]
     },
     "execution_count": 68,
     "metadata": {},
     "output_type": "execute_result"
    }
   ],
   "source": [
    "address_resp['bbox']"
   ]
  },
  {
   "cell_type": "code",
   "execution_count": 53,
   "metadata": {},
   "outputs": [
    {
     "data": {
      "text/plain": [
       "[9.209151, 45.526561]"
      ]
     },
     "execution_count": 53,
     "metadata": {},
     "output_type": "execute_result"
    }
   ],
   "source": [
    "address_point = address_resp['features'][0]['geometry']['coordinates']\n",
    "address_point"
   ]
  },
  {
   "cell_type": "markdown",
   "metadata": {},
   "source": [
    "## reverse geocoding to get the correct address"
   ]
  },
  {
   "cell_type": "code",
   "execution_count": 20,
   "metadata": {
    "scrolled": false
   },
   "outputs": [
    {
     "data": {
      "text/plain": [
       "{'geocoding': {'version': '0.2',\n",
       "  'attribution': 'https://openrouteservice.org/terms-of-service/#attribution-geocode',\n",
       "  'query': {'layers': ['address'],\n",
       "   'sources': ['openstreetmap'],\n",
       "   'size': 1,\n",
       "   'private': False,\n",
       "   'point.lat': 45.526561,\n",
       "   'point.lon': 9.209151,\n",
       "   'boundary.circle.lat': 45.526561,\n",
       "   'boundary.circle.lon': 9.209151,\n",
       "   'lang': {'name': 'English',\n",
       "    'iso6391': 'en',\n",
       "    'iso6393': 'eng',\n",
       "    'via': 'default',\n",
       "    'defaulted': True},\n",
       "   'querySize': 2},\n",
       "  'engine': {'name': 'Pelias', 'author': 'Mapzen', 'version': '1.0'},\n",
       "  'timestamp': 1686583368571},\n",
       " 'type': 'FeatureCollection',\n",
       " 'features': [{'type': 'Feature',\n",
       "   'geometry': {'type': 'Point', 'coordinates': [9.209511, 45.526484]},\n",
       "   'properties': {'id': 'node/10264901266',\n",
       "    'gid': 'openstreetmap:address:node/10264901266',\n",
       "    'layer': 'address',\n",
       "    'source': 'openstreetmap',\n",
       "    'source_id': 'node/10264901266',\n",
       "    'name': 'Viale Giovanni Suzzani 280',\n",
       "    'housenumber': '280',\n",
       "    'street': 'Viale Giovanni Suzzani',\n",
       "    'confidence': 0.8,\n",
       "    'distance': 0.029,\n",
       "    'accuracy': 'point',\n",
       "    'country': 'Italy',\n",
       "    'country_gid': 'whosonfirst:country:85633253',\n",
       "    'country_a': 'ITA',\n",
       "    'macroregion': 'Lombardy',\n",
       "    'macroregion_gid': 'whosonfirst:macroregion:404227497',\n",
       "    'region': 'Milano',\n",
       "    'region_gid': 'whosonfirst:region:85685243',\n",
       "    'region_a': 'MI',\n",
       "    'localadmin': 'Milan',\n",
       "    'localadmin_gid': 'whosonfirst:localadmin:404468459',\n",
       "    'locality': 'Milan',\n",
       "    'locality_gid': 'whosonfirst:locality:101752703',\n",
       "    'neighbourhood': 'Aeroporto',\n",
       "    'neighbourhood_gid': 'whosonfirst:neighbourhood:85862739',\n",
       "    'continent': 'Europe',\n",
       "    'continent_gid': 'whosonfirst:continent:102191581',\n",
       "    'label': 'Viale Giovanni Suzzani 280, Milan, MI, Italy'}}],\n",
       " 'bbox': [9.209511, 45.526484, 9.209511, 45.526484]}"
      ]
     },
     "execution_count": 20,
     "metadata": {},
     "output_type": "execute_result"
    }
   ],
   "source": [
    "client.pelias_reverse(\n",
    "    address_point,\n",
    "    size=1,\n",
    "    layers=['address'],\n",
    "    sources=['osm']\n",
    ")"
   ]
  },
  {
   "cell_type": "code",
   "execution_count": null,
   "metadata": {},
   "outputs": [],
   "source": []
  },
  {
   "cell_type": "code",
   "execution_count": null,
   "metadata": {},
   "outputs": [],
   "source": []
  }
 ],
 "metadata": {
  "kernelspec": {
   "display_name": "Python 3 (ipykernel)",
   "language": "python",
   "name": "python3"
  },
  "language_info": {
   "codemirror_mode": {
    "name": "ipython",
    "version": 3
   },
   "file_extension": ".py",
   "mimetype": "text/x-python",
   "name": "python",
   "nbconvert_exporter": "python",
   "pygments_lexer": "ipython3",
   "version": "3.9.16"
  }
 },
 "nbformat": 4,
 "nbformat_minor": 2
}
